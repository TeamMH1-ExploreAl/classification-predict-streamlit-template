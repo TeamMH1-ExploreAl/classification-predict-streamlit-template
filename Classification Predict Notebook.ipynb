{
 "cells": [
  {
   "cell_type": "markdown",
   "id": "c6edc204",
   "metadata": {},
   "source": [
    "# EDSA - Twitter Sentiment Classification"
   ]
  },
  {
   "cell_type": "markdown",
   "id": "b3f0ace5",
   "metadata": {},
   "source": [
    "### Climate Change Belief Analysis 2022 "
   ]
  },
  {
   "cell_type": "markdown",
   "id": "03099afc",
   "metadata": {},
   "source": [
    "### Predict an individual’s belief in climate change based on historical tweet data"
   ]
  },
  {
   "cell_type": "markdown",
   "id": "fa731681",
   "metadata": {},
   "source": [
    "#### Executed by: TeamMH1-ExploreAl Climate Change Belief Analysis 2022"
   ]
  },
  {
   "cell_type": "markdown",
   "id": "0b39399b",
   "metadata": {},
   "source": [
    "Members"
   ]
  },
  {
   "cell_type": "markdown",
   "id": "0324cad6",
   "metadata": {},
   "source": [
    "### Predict Overview: EDSA - Twitter Sentiment Classification\n",
    "\n",
    "Many companies are built around lessening one’s environmental impact or carbon footprint. They offer products and services that are environmentally friendly and sustainable, in line with their values and ideals. They would like to determine how people perceive climate change and whether or not they believe it is a real threat. This would add to their market research efforts in gauging how their product/service may be received.\n",
    "\n",
    "With this context, EDSA is challenging you during the Classification Sprint with the task of creating a Machine Learning model that is able to classify whether or not a person believes in climate change, based on their novel tweet data.\n",
    "\n",
    "Providing an accurate and robust solution to this task gives companies access to a broad base of consumer sentiment, spanning multiple demographic and geographic categories - thus increasing their insights and informing future marketing strategies."
   ]
  },
  {
   "cell_type": "markdown",
   "id": "6e57c07e",
   "metadata": {},
   "source": [
    "## Table of Contents\n",
    "\n",
    "<font color=blue> 1. Importing Packages</font>\n",
    "\n",
    "<font color=blue>2. Loading Data</font>\n",
    "\n",
    "<font color=blue>3. Exploratory Data Analysis (EDA)</font>\n",
    "\n",
    "<font color=blue>4. Sentiment Analysis</font>\n",
    "\n",
    "<font color=blue>5. Data Processing and Engineering</font>\n",
    "\n",
    "<font color=blue>6. Feature Engineering</font>\n",
    "\n",
    "<font color=blue>7. Modeling Building</font>\n",
    "\n",
    "<font color=blue>8. Model Performance</font>\n",
    "\n",
    "<font color=blue>9. Conclusion</font>\n",
    "\n",
    "<font color=blue>10. Export</font>\n",
    "\n",
    "<font color=blue>11. References</font>"
   ]
  },
  {
   "cell_type": "markdown",
   "id": "8449ef78",
   "metadata": {},
   "source": [
    "## 1. Importing Packages"
   ]
  },
  {
   "cell_type": "code",
   "execution_count": 1,
   "id": "05039fd8",
   "metadata": {},
   "outputs": [],
   "source": [
    "\n",
    "import numpy as np\n",
    "import pandas as pd\n",
    "import time \n",
    "import re\n",
    "\n",
    "from nltk.corpus import stopwords\n",
    "from nltk.tokenize import sent_tokenize, word_tokenize, TweetTokenizer\n",
    "english_stop_words = stopwords.words('english')\n",
    "from sklearn.feature_extraction.text import CountVectorizer\n",
    "from sklearn.feature_extraction.text import TfidfVectorizer\n",
    "\n",
    "from nltk.stem.porter import PorterStemmer\n",
    "from nltk.stem import WordNetLemmatizer\n",
    "\n",
    "#preprocessing\n",
    "from sklearn.model_selection import train_test_split\n",
    "from sklearn.preprocessing import LabelEncoder\n",
    "\n",
    "# machine learning\n",
    "\n",
    "from sklearn.naive_bayes import GaussianNB\n",
    "from sklearn.naive_bayes import MultinomialNB\n",
    "from sklearn.tree import DecisionTreeClassifier\n",
    "from sklearn.ensemble import RandomForestClassifier\n",
    "from sklearn.linear_model import LogisticRegression\n",
    "from sklearn.svm import LinearSVC\n",
    "\n",
    "from sklearn.metrics import classification_report\n",
    "\n",
    "import seaborn as sns\n",
    "sns.set(style ='whitegrid')\n",
    "pd.set_option('display.max_columns',None)"
   ]
  },
  {
   "cell_type": "markdown",
   "id": "483d51d1",
   "metadata": {},
   "source": [
    "## 2. Loading the Data"
   ]
  },
  {
   "cell_type": "code",
   "execution_count": 2,
   "id": "c9f9ec51",
   "metadata": {},
   "outputs": [],
   "source": [
    "# Load Data\n",
    "\n",
    "df_train = pd.read_csv('train.csv')\n",
    "df_test = pd.read_csv('test_with_no_labels.csv')"
   ]
  },
  {
   "cell_type": "code",
   "execution_count": 3,
   "id": "b1833017",
   "metadata": {},
   "outputs": [
    {
     "name": "stdout",
     "output_type": "stream",
     "text": [
      "<class 'pandas.core.frame.DataFrame'>\n",
      "RangeIndex: 15819 entries, 0 to 15818\n",
      "Data columns (total 3 columns):\n",
      " #   Column     Non-Null Count  Dtype \n",
      "---  ------     --------------  ----- \n",
      " 0   sentiment  15819 non-null  int64 \n",
      " 1   message    15819 non-null  object\n",
      " 2   tweetid    15819 non-null  int64 \n",
      "dtypes: int64(2), object(1)\n",
      "memory usage: 370.9+ KB\n"
     ]
    }
   ],
   "source": [
    "df_train.info()"
   ]
  },
  {
   "cell_type": "markdown",
   "id": "db05c369",
   "metadata": {},
   "source": [
    "## 4. Exploratory Data Analysis (EDA)"
   ]
  },
  {
   "cell_type": "code",
   "execution_count": 4,
   "id": "e55e6241",
   "metadata": {},
   "outputs": [
    {
     "data": {
      "text/html": [
       "<div>\n",
       "<style scoped>\n",
       "    .dataframe tbody tr th:only-of-type {\n",
       "        vertical-align: middle;\n",
       "    }\n",
       "\n",
       "    .dataframe tbody tr th {\n",
       "        vertical-align: top;\n",
       "    }\n",
       "\n",
       "    .dataframe thead th {\n",
       "        text-align: right;\n",
       "    }\n",
       "</style>\n",
       "<table border=\"1\" class=\"dataframe\">\n",
       "  <thead>\n",
       "    <tr style=\"text-align: right;\">\n",
       "      <th></th>\n",
       "      <th>message</th>\n",
       "      <th>tweetid</th>\n",
       "    </tr>\n",
       "  </thead>\n",
       "  <tbody>\n",
       "    <tr>\n",
       "      <th>0</th>\n",
       "      <td>Europe will now be looking to China to make su...</td>\n",
       "      <td>169760</td>\n",
       "    </tr>\n",
       "    <tr>\n",
       "      <th>1</th>\n",
       "      <td>Combine this with the polling of staffers re c...</td>\n",
       "      <td>35326</td>\n",
       "    </tr>\n",
       "    <tr>\n",
       "      <th>2</th>\n",
       "      <td>The scary, unimpeachable evidence that climate...</td>\n",
       "      <td>224985</td>\n",
       "    </tr>\n",
       "    <tr>\n",
       "      <th>3</th>\n",
       "      <td>@Karoli @morgfair @OsborneInk @dailykos \\nPuti...</td>\n",
       "      <td>476263</td>\n",
       "    </tr>\n",
       "    <tr>\n",
       "      <th>4</th>\n",
       "      <td>RT @FakeWillMoore: 'Female orgasms cause globa...</td>\n",
       "      <td>872928</td>\n",
       "    </tr>\n",
       "  </tbody>\n",
       "</table>\n",
       "</div>"
      ],
      "text/plain": [
       "                                             message  tweetid\n",
       "0  Europe will now be looking to China to make su...   169760\n",
       "1  Combine this with the polling of staffers re c...    35326\n",
       "2  The scary, unimpeachable evidence that climate...   224985\n",
       "3  @Karoli @morgfair @OsborneInk @dailykos \\nPuti...   476263\n",
       "4  RT @FakeWillMoore: 'Female orgasms cause globa...   872928"
      ]
     },
     "execution_count": 4,
     "metadata": {},
     "output_type": "execute_result"
    }
   ],
   "source": [
    "df_train.head(10)\n",
    "df_test.head(5)"
   ]
  },
  {
   "cell_type": "code",
   "execution_count": 5,
   "id": "06a5f5fa",
   "metadata": {},
   "outputs": [
    {
     "data": {
      "text/plain": [
       "sentiment  message                                                                                                                                       tweetid\n",
       "-1         #BillNye Grade school science guy spreading lie of climate change #CNN donna doesn't match truth does… https://t.co/zi4lfot0ru                84006      0.000063\n",
       " 1         RT @mashable: Possibly the most beautiful and distinct sign of climate change https://t.co/u0KdiMwHk8                                         237234     0.000063\n",
       "           RT @mashable: Trump falsely claims that nobody knows if global warming is real https://t.co/uszV0jlRUu https://t.co/PvmYh984Id                667336     0.000063\n",
       "           RT @mashable: Trump's order will begin to unravel America's best defense against climate change https://t.co/Tmv83ewROa                       319226     0.000063\n",
       "           RT @mateosfo: 4) Plus dozens of start-ups, investors, non-profits employing thousands of Californians addressing climate change. Our expert…  17837      0.000063\n",
       "                                                                                                                                                                      ...   \n",
       "           Imagine actually not believing in climate change even China believes in climate change                                                        72722      0.000063\n",
       "           Imagine if world was more concerned about things like Indigenous suffrage and global warming than they were about Rihanna gaining weight      167005     0.000063\n",
       "           Imagine not believing in climate change                                                                                                       948143     0.000063\n",
       "           Imagine trying to explain to @realDonaldTrump that; Per @UN, cows r responsible for 50+% global warming greenhouse… https://t.co/naMEFBF0Dk   642611     0.000063\n",
       " 2         📢 #ClimateChange \\nPeople prepare to fight their governments on climate change https://t.co/rcJ9VoUL7T\\n#KRTpro #News                         687224     0.000063\n",
       "Length: 15819, dtype: float64"
      ]
     },
     "execution_count": 5,
     "metadata": {},
     "output_type": "execute_result"
    }
   ],
   "source": [
    "df_train.value_counts(normalize=True)"
   ]
  },
  {
   "cell_type": "code",
   "execution_count": 6,
   "id": "583b86eb",
   "metadata": {},
   "outputs": [
    {
     "data": {
      "text/plain": [
       " 1    8530\n",
       " 2    3640\n",
       " 0    2353\n",
       "-1    1296\n",
       "Name: sentiment, dtype: int64"
      ]
     },
     "execution_count": 6,
     "metadata": {},
     "output_type": "execute_result"
    }
   ],
   "source": [
    "df_train['sentiment'].value_counts() # Sentiments positive ,negative ,neutral??"
   ]
  },
  {
   "cell_type": "code",
   "execution_count": 7,
   "id": "8750a4a8",
   "metadata": {},
   "outputs": [
    {
     "data": {
      "text/plain": [
       "<AxesSubplot:xlabel='sentiment', ylabel='count'>"
      ]
     },
     "execution_count": 7,
     "metadata": {},
     "output_type": "execute_result"
    },
    {
     "data": {
      "image/png": "[encoded data removed]",
      "text/plain": [
       "<Figure size 432x288 with 1 Axes>"
      ]
     },
     "metadata": {},
     "output_type": "display_data"
    }
   ],
   "source": [
    "sns.countplot(x=df_train['sentiment']) #sentiment 1 appears to be more in count"
   ]
  },
  {
   "cell_type": "code",
   "execution_count": 8,
   "id": "666f6712",
   "metadata": {},
   "outputs": [
    {
     "data": {
      "text/plain": [
       "0"
      ]
     },
     "execution_count": 8,
     "metadata": {},
     "output_type": "execute_result"
    }
   ],
   "source": [
    "df_train.duplicated().sum()# No duplicates"
   ]
  },
  {
   "cell_type": "code",
   "execution_count": 9,
   "id": "cced3765",
   "metadata": {},
   "outputs": [
    {
     "data": {
      "text/plain": [
       "<AxesSubplot:ylabel='sentiment'>"
      ]
     },
     "execution_count": 9,
     "metadata": {},
     "output_type": "execute_result"
    },
    {
     "data": {
      "image/png": "[encoded data removed]",
      "text/plain": [
       "<Figure size 360x360 with 1 Axes>"
      ]
     },
     "metadata": {},
     "output_type": "display_data"
    }
   ],
   "source": [
    "df_train.sentiment.value_counts().plot(kind='pie', autopct='%1.0f%%',figsize=(5,5),colors=[\"red\", \"yellow\", \"green\",'blue'])"
   ]
  },
  {
   "cell_type": "markdown",
   "id": "c149b1e7",
   "metadata": {},
   "source": [
    "## 5. Data Processing and Engineering"
   ]
  },
  {
   "cell_type": "code",
   "execution_count": 10,
   "id": "5ffe5300",
   "metadata": {},
   "outputs": [],
   "source": [
    "# encoder for target feature\n",
    "from sklearn import preprocessing\n",
    "lb = preprocessing.LabelEncoder()\n",
    "df_train['sentiment']=lb.fit_transform(df_train['sentiment'])"
   ]
  },
  {
   "cell_type": "code",
   "execution_count": 11,
   "id": "173ab1f4",
   "metadata": {},
   "outputs": [
    {
     "data": {
      "text/plain": [
       "0"
      ]
     },
     "execution_count": 11,
     "metadata": {},
     "output_type": "execute_result"
    }
   ],
   "source": [
    "df_train['message'].isnull().sum() #No null values on message columns"
   ]
  },
  {
   "cell_type": "code",
   "execution_count": 12,
   "id": "7bf22984",
   "metadata": {},
   "outputs": [],
   "source": [
    "tweet_train  =df_train[\"message\"]\n",
    "tweet_valid=df_test[\"message\"]\n",
    "target=df_train['sentiment']"
   ]
  },
  {
   "cell_type": "code",
   "execution_count": 13,
   "id": "36a50f04",
   "metadata": {},
   "outputs": [],
   "source": [
    "#Remove Additional Letter such as @\n",
    "\n",
    "REPLACE_WITH_SPACE = re.compile(\"(@)\")\n",
    "SPACE = \" \"\n",
    "\n",
    "def preprocess_reviews(reviews):  \n",
    "    reviews = [REPLACE_WITH_SPACE.sub(SPACE, line.lower()) for line in reviews]\n",
    "    \n",
    "    return reviews\n",
    "\n",
    "reviews_train_clean = preprocess_reviews(tweet_train)\n",
    "reviews_valid_clean = preprocess_reviews(tweet_valid)"
   ]
  },
  {
   "cell_type": "code",
   "execution_count": 14,
   "id": "3b0a5f46",
   "metadata": {},
   "outputs": [],
   "source": [
    "#Remove stop Words\n",
    "\n",
    "def remove_stop_words(corpus):\n",
    "    removed_stop_words = []\n",
    "    for review in corpus:\n",
    "        removed_stop_words.append(\n",
    "            ' '.join([word for word in review.split()  if word not in english_stop_words]))\n",
    "    return removed_stop_words\n",
    "\n",
    "no_stop_words_train = remove_stop_words(reviews_train_clean)\n",
    "no_stop_words_valid = remove_stop_words(reviews_valid_clean)"
   ]
  },
  {
   "cell_type": "code",
   "execution_count": 15,
   "id": "35271979",
   "metadata": {},
   "outputs": [],
   "source": [
    "#stemming\n",
    "def get_stemmed_text(corpus):\n",
    "    stemmer = PorterStemmer()\n",
    "\n",
    "    return [' '.join([stemmer.stem(word) for word in review.split()]) for review in corpus]\n",
    "\n",
    "stemmed_reviews_train = get_stemmed_text(no_stop_words_train)\n",
    "stemmed_reviews_test = get_stemmed_text(no_stop_words_valid)"
   ]
  },
  {
   "cell_type": "code",
   "execution_count": null,
   "id": "bc950be6",
   "metadata": {},
   "outputs": [],
   "source": [
    "#TF-IDF\n",
    "tfidf_vectorizer = TfidfVectorizer()\n",
    "tfidf_vectorizer.fit(stemmed_reviews_train)\n",
    "X = tfidf_vectorizer.transform(stemmed_reviews_train)\n",
    "X_test = tfidf_vectorizer.transform(stemmed_reviews_test)"
   ]
  },
  {
   "cell_type": "markdown",
   "id": "454fd534",
   "metadata": {},
   "source": [
    "## 6. Feature Engineering"
   ]
  },
  {
   "cell_type": "code",
   "execution_count": null,
   "id": "3879899a",
   "metadata": {},
   "outputs": [],
   "source": []
  },
  {
   "cell_type": "code",
   "execution_count": null,
   "id": "9591cd46",
   "metadata": {},
   "outputs": [],
   "source": []
  },
  {
   "cell_type": "code",
   "execution_count": null,
   "id": "d303ea90",
   "metadata": {},
   "outputs": [],
   "source": []
  },
  {
   "cell_type": "code",
   "execution_count": null,
   "id": "d7216a33",
   "metadata": {},
   "outputs": [],
   "source": []
  },
  {
   "cell_type": "markdown",
   "id": "78ba49c0",
   "metadata": {},
   "source": [
    "## 7. Modeling building"
   ]
  },
  {
   "cell_type": "code",
   "execution_count": null,
   "id": "3b735731",
   "metadata": {},
   "outputs": [],
   "source": []
  },
  {
   "cell_type": "code",
   "execution_count": null,
   "id": "d3cccfac",
   "metadata": {},
   "outputs": [],
   "source": []
  },
  {
   "cell_type": "code",
   "execution_count": null,
   "id": "75c5855b",
   "metadata": {},
   "outputs": [],
   "source": []
  },
  {
   "cell_type": "markdown",
   "id": "b39aec2a",
   "metadata": {},
   "source": [
    "## 8. Model Performance"
   ]
  },
  {
   "cell_type": "code",
   "execution_count": null,
   "id": "b9305f1d",
   "metadata": {},
   "outputs": [],
   "source": []
  },
  {
   "cell_type": "code",
   "execution_count": null,
   "id": "497c3b41",
   "metadata": {},
   "outputs": [],
   "source": []
  },
  {
   "cell_type": "code",
   "execution_count": null,
   "id": "2b0601e4",
   "metadata": {},
   "outputs": [],
   "source": []
  },
  {
   "cell_type": "markdown",
   "id": "8d52a6e0",
   "metadata": {},
   "source": [
    "## 9. Conclusion"
   ]
  },
  {
   "cell_type": "code",
   "execution_count": null,
   "id": "92b6af11",
   "metadata": {},
   "outputs": [],
   "source": []
  },
  {
   "cell_type": "markdown",
   "id": "93dcd67f",
   "metadata": {},
   "source": [
    "## 10. Export"
   ]
  },
  {
   "cell_type": "code",
   "execution_count": null,
   "id": "8325e503",
   "metadata": {},
   "outputs": [],
   "source": []
  },
  {
   "cell_type": "markdown",
   "id": "7316481c",
   "metadata": {},
   "source": [
    "## 11. Reference"
   ]
  },
  {
   "cell_type": "code",
   "execution_count": null,
   "id": "190332af",
   "metadata": {},
   "outputs": [],
   "source": []
  }
 ],
 "metadata": {
  "kernelspec": {
   "display_name": "Python 3 (ipykernel)",
   "language": "python",
   "name": "python3"
  },
  "language_info": {
   "codemirror_mode": {
    "name": "ipython",
    "version": 3
   },
   "file_extension": ".py",
   "mimetype": "text/x-python",
   "name": "python",
   "nbconvert_exporter": "python",
   "pygments_lexer": "ipython3",
   "version": "3.9.12"
  }
 },
 "nbformat": 4,
 "nbformat_minor": 5
}
